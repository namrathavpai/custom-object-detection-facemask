{
 "cells": [
  {
   "cell_type": "code",
   "execution_count": 1,
   "metadata": {},
   "outputs": [
    {
     "name": "stdout",
     "output_type": "stream",
     "text": [
      "Collecting opencv-python\n",
      "  Using cached opencv_python-4.5.2.52-cp38-cp38-win_amd64.whl (34.7 MB)\n",
      "Requirement already satisfied: numpy>=1.17.3 in c:\\users\\namratha\\anaconda3\\envs\\nlp\\lib\\site-packages (from opencv-python) (1.20.2)\n",
      "Installing collected packages: opencv-python\n",
      "Successfully installed opencv-python-4.5.2.52\n"
     ]
    }
   ],
   "source": [
    "!pip install opencv-python"
   ]
  },
  {
   "cell_type": "code",
   "execution_count": 1,
   "metadata": {},
   "outputs": [],
   "source": [
    "import cv2 \n",
    "import uuid\n",
    "import os\n",
    "import time"
   ]
  },
  {
   "cell_type": "code",
   "execution_count": 2,
   "metadata": {},
   "outputs": [],
   "source": [
    "labels = ['with_mask', 'without_mask']\n",
    "number_imgs = 5"
   ]
  },
  {
   "cell_type": "code",
   "execution_count": 3,
   "metadata": {},
   "outputs": [],
   "source": [
    "IMAGES_PATH = os.path.join('Tensorflow', 'workspace', 'images', 'collectedimages')"
   ]
  },
  {
   "cell_type": "code",
   "execution_count": 4,
   "metadata": {},
   "outputs": [
    {
     "name": "stderr",
     "output_type": "stream",
     "text": [
      "A subdirectory or file Tensorflow\\workspace\\images\\collectedimages already exists.\n"
     ]
    }
   ],
   "source": [
    "!mkdir {IMAGES_PATH}"
   ]
  },
  {
   "cell_type": "code",
   "execution_count": 5,
   "metadata": {},
   "outputs": [],
   "source": [
    "for label in labels:\n",
    "    path = os.path.join(IMAGES_PATH, label)\n",
    "    if not os.path.exists(path):\n",
    "        !mkdir {path}"
   ]
  },
  {
   "cell_type": "markdown",
   "metadata": {},
   "source": [
    "# Capture Images"
   ]
  },
  {
   "cell_type": "code",
   "execution_count": 7,
   "metadata": {},
   "outputs": [
    {
     "name": "stdout",
     "output_type": "stream",
     "text": [
      "Collecting images for with_mask\n",
      "Collecting image 0\n",
      "Collecting image 1\n",
      "Collecting image 2\n",
      "Collecting image 3\n",
      "Collecting image 4\n",
      "Collecting images for without_mask\n",
      "Collecting image 0\n",
      "Collecting image 1\n",
      "Collecting image 2\n",
      "Collecting image 3\n",
      "Collecting image 4\n"
     ]
    }
   ],
   "source": [
    "for label in labels:\n",
    "    cap = cv2.VideoCapture(0)\n",
    "    print('Collecting images for {}'.format(label))\n",
    "    time.sleep(5)\n",
    "    for imgnum in range(number_imgs):\n",
    "        print('Collecting image {}'.format(imgnum))\n",
    "        ret, frame = cap.read()\n",
    "        imgname = os.path.join(IMAGES_PATH,label,label+'.'+'{}.jpg'.format(str(uuid.uuid1())))\n",
    "        cv2.imwrite(imgname, frame)\n",
    "        cv2.imshow('frame', frame)\n",
    "        time.sleep(5)\n",
    "\n",
    "        if cv2.waitKey(1) & 0xFF == ord('q'):\n",
    "            break\n",
    "cap.release()\n",
    "cv2.destroyAllWindows()"
   ]
  },
  {
   "cell_type": "markdown",
   "metadata": {},
   "source": [
    "#  Image Labelling"
   ]
  },
  {
   "cell_type": "code",
   "execution_count": 10,
   "metadata": {},
   "outputs": [
    {
     "name": "stdout",
     "output_type": "stream",
     "text": [
      "Requirement already satisfied: pyqt5 in c:\\users\\namratha\\anaconda3\\envs\\fmd\\lib\\site-packages (5.15.4)\n",
      "Requirement already satisfied: lxml in c:\\users\\namratha\\anaconda3\\envs\\fmd\\lib\\site-packages (4.6.3)\n",
      "Requirement already satisfied: PyQt5-Qt5>=5.15 in c:\\users\\namratha\\anaconda3\\envs\\fmd\\lib\\site-packages (from pyqt5) (5.15.2)\n",
      "Requirement already satisfied: PyQt5-sip<13,>=12.8 in c:\\users\\namratha\\anaconda3\\envs\\fmd\\lib\\site-packages (from pyqt5) (12.9.0)\n"
     ]
    }
   ],
   "source": [
    "!pip install --upgrade pyqt5 lxml"
   ]
  },
  {
   "cell_type": "code",
   "execution_count": 8,
   "metadata": {},
   "outputs": [],
   "source": [
    "LABELIMG_PATH = os.path.join('Tensorflow', 'labeling')"
   ]
  },
  {
   "cell_type": "code",
   "execution_count": 9,
   "metadata": {},
   "outputs": [],
   "source": [
    "if not os.path.exists(LABELIMG_PATH):\n",
    "    !mkdir {LABELIMG_PATH}\n",
    "    !git clone https://github.com/tzutalin/labelImg {LABELIMG_PATH}"
   ]
  },
  {
   "cell_type": "code",
   "execution_count": 10,
   "metadata": {},
   "outputs": [],
   "source": [
    "if os.name =='nt':\n",
    "    !cd {LABELIMG_PATH} && pyrcc5 -o libs/resources.py resources.qrc"
   ]
  },
  {
   "cell_type": "code",
   "execution_count": 11,
   "metadata": {},
   "outputs": [
    {
     "name": "stdout",
     "output_type": "stream",
     "text": [
      "Image:C:\\Users\\Namratha\\Documents\\MINI_PROJECT\\mini_proj_2sem\\facemask_detection\\RealTimeObjectDetection\\Tensorflow\\workspace\\images\\collectedimages\\with_mask\\with_mask.0ba18faa-c94b-11eb-9de8-68f728ea5740.jpg -> Annotation:C:/Users/Namratha/Documents/MINI_PROJECT/mini_proj_2sem/facemask_detection/RealTimeObjectDetection/Tensorflow/workspace/images/collectedimages/with_mask/with_mask.0ba18faa-c94b-11eb-9de8-68f728ea5740.xml\n",
      "Image:C:\\Users\\Namratha\\Documents\\MINI_PROJECT\\mini_proj_2sem\\facemask_detection\\RealTimeObjectDetection\\Tensorflow\\workspace\\images\\collectedimages\\with_mask\\with_mask.0ea1c5f1-c94b-11eb-bf81-68f728ea5740.jpg -> Annotation:C:/Users/Namratha/Documents/MINI_PROJECT/mini_proj_2sem/facemask_detection/RealTimeObjectDetection/Tensorflow/workspace/images/collectedimages/with_mask/with_mask.0ea1c5f1-c94b-11eb-bf81-68f728ea5740.xml\n",
      "Image:C:\\Users\\Namratha\\Documents\\MINI_PROJECT\\mini_proj_2sem\\facemask_detection\\RealTimeObjectDetection\\Tensorflow\\workspace\\images\\collectedimages\\with_mask\\with_mask.7cde241e-c94b-11eb-8bf0-68f728ea5740.jpg -> Annotation:C:/Users/Namratha/Documents/MINI_PROJECT/mini_proj_2sem/facemask_detection/RealTimeObjectDetection/Tensorflow/workspace/images/collectedimages/with_mask/with_mask.7cde241e-c94b-11eb-8bf0-68f728ea5740.xml\n",
      "Image:C:\\Users\\Namratha\\Documents\\MINI_PROJECT\\mini_proj_2sem\\facemask_detection\\RealTimeObjectDetection\\Tensorflow\\workspace\\images\\collectedimages\\with_mask\\with_mask.7fded4a3-c94b-11eb-bc30-68f728ea5740.jpg -> Annotation:C:/Users/Namratha/Documents/MINI_PROJECT/mini_proj_2sem/facemask_detection/RealTimeObjectDetection/Tensorflow/workspace/images/collectedimages/with_mask/with_mask.7fded4a3-c94b-11eb-bc30-68f728ea5740.xml\n",
      "Image:C:\\Users\\Namratha\\Documents\\MINI_PROJECT\\mini_proj_2sem\\facemask_detection\\RealTimeObjectDetection\\Tensorflow\\workspace\\images\\collectedimages\\with_mask\\with_mask.08a0c2d6-c94b-11eb-9426-68f728ea5740.jpg -> Annotation:C:/Users/Namratha/Documents/MINI_PROJECT/mini_proj_2sem/facemask_detection/RealTimeObjectDetection/Tensorflow/workspace/images/collectedimages/with_mask/with_mask.08a0c2d6-c94b-11eb-9426-68f728ea5740.xml\n",
      "Image:C:\\Users\\Namratha\\Documents\\MINI_PROJECT\\mini_proj_2sem\\facemask_detection\\RealTimeObjectDetection\\Tensorflow\\workspace\\images\\collectedimages\\with_mask\\with_mask.11a0d7bc-c94b-11eb-9be7-68f728ea5740.jpg -> Annotation:C:/Users/Namratha/Documents/MINI_PROJECT/mini_proj_2sem/facemask_detection/RealTimeObjectDetection/Tensorflow/workspace/images/collectedimages/with_mask/with_mask.11a0d7bc-c94b-11eb-9be7-68f728ea5740.xml\n",
      "Image:C:\\Users\\Namratha\\Documents\\MINI_PROJECT\\mini_proj_2sem\\facemask_detection\\RealTimeObjectDetection\\Tensorflow\\workspace\\images\\collectedimages\\with_mask\\with_mask.76d238b9-c94b-11eb-943e-68f728ea5740.jpg -> Annotation:C:/Users/Namratha/Documents/MINI_PROJECT/mini_proj_2sem/facemask_detection/RealTimeObjectDetection/Tensorflow/workspace/images/collectedimages/with_mask/with_mask.76d238b9-c94b-11eb-943e-68f728ea5740.xml\n",
      "Image:C:\\Users\\Namratha\\Documents\\MINI_PROJECT\\mini_proj_2sem\\facemask_detection\\RealTimeObjectDetection\\Tensorflow\\workspace\\images\\collectedimages\\with_mask\\with_mask.79dcb37e-c94b-11eb-a634-68f728ea5740.jpg -> Annotation:C:/Users/Namratha/Documents/MINI_PROJECT/mini_proj_2sem/facemask_detection/RealTimeObjectDetection/Tensorflow/workspace/images/collectedimages/with_mask/with_mask.79dcb37e-c94b-11eb-a634-68f728ea5740.xml\n",
      "Image:C:\\Users\\Namratha\\Documents\\MINI_PROJECT\\mini_proj_2sem\\facemask_detection\\RealTimeObjectDetection\\Tensorflow\\workspace\\images\\collectedimages\\with_mask\\with_mask.82df3723-c94b-11eb-a8a5-68f728ea5740.jpg -> Annotation:C:/Users/Namratha/Documents/MINI_PROJECT/mini_proj_2sem/facemask_detection/RealTimeObjectDetection/Tensorflow/workspace/images/collectedimages/with_mask/with_mask.82df3723-c94b-11eb-a8a5-68f728ea5740.xml\n",
      "Image:C:\\Users\\Namratha\\Documents\\MINI_PROJECT\\mini_proj_2sem\\facemask_detection\\RealTimeObjectDetection\\Tensorflow\\workspace\\images\\collectedimages\\with_mask\\with_mask.059326f8-c94b-11eb-95cd-68f728ea5740.jpg -> Annotation:C:/Users/Namratha/Documents/MINI_PROJECT/mini_proj_2sem/facemask_detection/RealTimeObjectDetection/Tensorflow/workspace/images/collectedimages/with_mask/with_mask.059326f8-c94b-11eb-95cd-68f728ea5740.xml\n",
      "Image:C:\\Users\\Namratha\\Documents\\MINI_PROJECT\\mini_proj_2sem\\facemask_detection\\RealTimeObjectDetection\\Tensorflow\\workspace\\images\\collectedimages\\without_mask\\without_mask.1b4e1b63-c94b-11eb-b996-68f728ea5740.jpg -> Annotation:C:/Users/Namratha/Documents/MINI_PROJECT/mini_proj_2sem/facemask_detection/RealTimeObjectDetection/Tensorflow/workspace/images/collectedimages/without_mask/without_mask.1b4e1b63-c94b-11eb-b996-68f728ea5740.xml\n",
      "Image:C:\\Users\\Namratha\\Documents\\MINI_PROJECT\\mini_proj_2sem\\facemask_detection\\RealTimeObjectDetection\\Tensorflow\\workspace\\images\\collectedimages\\without_mask\\without_mask.1e5061c3-c94b-11eb-ab9a-68f728ea5740.jpg -> Annotation:C:/Users/Namratha/Documents/MINI_PROJECT/mini_proj_2sem/facemask_detection/RealTimeObjectDetection/Tensorflow/workspace/images/collectedimages/without_mask/without_mask.1e5061c3-c94b-11eb-ab9a-68f728ea5740.xml\n",
      "Image:C:\\Users\\Namratha\\Documents\\MINI_PROJECT\\mini_proj_2sem\\facemask_detection\\RealTimeObjectDetection\\Tensorflow\\workspace\\images\\collectedimages\\without_mask\\without_mask.8c7e2278-c94b-11eb-bc67-68f728ea5740.jpg -> Annotation:C:/Users/Namratha/Documents/MINI_PROJECT/mini_proj_2sem/facemask_detection/RealTimeObjectDetection/Tensorflow/workspace/images/collectedimages/without_mask/without_mask.8c7e2278-c94b-11eb-bc67-68f728ea5740.xml\n",
      "Image:C:\\Users\\Namratha\\Documents\\MINI_PROJECT\\mini_proj_2sem\\facemask_detection\\RealTimeObjectDetection\\Tensorflow\\workspace\\images\\collectedimages\\without_mask\\without_mask.8f7f27f1-c94b-11eb-8f19-68f728ea5740.jpg -> Annotation:C:/Users/Namratha/Documents/MINI_PROJECT/mini_proj_2sem/facemask_detection/RealTimeObjectDetection/Tensorflow/workspace/images/collectedimages/without_mask/without_mask.8f7f27f1-c94b-11eb-8f19-68f728ea5740.xml\n",
      "Image:C:\\Users\\Namratha\\Documents\\MINI_PROJECT\\mini_proj_2sem\\facemask_detection\\RealTimeObjectDetection\\Tensorflow\\workspace\\images\\collectedimages\\without_mask\\without_mask.184af336-c94b-11eb-ad7d-68f728ea5740.jpg -> Annotation:C:/Users/Namratha/Documents/MINI_PROJECT/mini_proj_2sem/facemask_detection/RealTimeObjectDetection/Tensorflow/workspace/images/collectedimages/without_mask/without_mask.184af336-c94b-11eb-ad7d-68f728ea5740.xml\n",
      "Image:C:\\Users\\Namratha\\Documents\\MINI_PROJECT\\mini_proj_2sem\\facemask_detection\\RealTimeObjectDetection\\Tensorflow\\workspace\\images\\collectedimages\\without_mask\\without_mask.897c49a0-c94b-11eb-b8b6-68f728ea5740.jpg -> Annotation:C:/Users/Namratha/Documents/MINI_PROJECT/mini_proj_2sem/facemask_detection/RealTimeObjectDetection/Tensorflow/workspace/images/collectedimages/without_mask/without_mask.897c49a0-c94b-11eb-b8b6-68f728ea5740.xml\n",
      "Image:C:\\Users\\Namratha\\Documents\\MINI_PROJECT\\mini_proj_2sem\\facemask_detection\\RealTimeObjectDetection\\Tensorflow\\workspace\\images\\collectedimages\\without_mask\\without_mask.9281c3ce-c94b-11eb-80e6-68f728ea5740.jpg -> Annotation:C:/Users/Namratha/Documents/MINI_PROJECT/mini_proj_2sem/facemask_detection/RealTimeObjectDetection/Tensorflow/workspace/images/collectedimages/without_mask/without_mask.9281c3ce-c94b-11eb-80e6-68f728ea5740.xml\n",
      "Image:C:\\Users\\Namratha\\Documents\\MINI_PROJECT\\mini_proj_2sem\\facemask_detection\\RealTimeObjectDetection\\Tensorflow\\workspace\\images\\collectedimages\\without_mask\\without_mask.2454175f-c94b-11eb-acdb-68f728ea5740.jpg -> Annotation:C:/Users/Namratha/Documents/MINI_PROJECT/mini_proj_2sem/facemask_detection/RealTimeObjectDetection/Tensorflow/workspace/images/collectedimages/without_mask/without_mask.2454175f-c94b-11eb-acdb-68f728ea5740.xml\n",
      "Image:C:\\Users\\Namratha\\Documents\\MINI_PROJECT\\mini_proj_2sem\\facemask_detection\\RealTimeObjectDetection\\Tensorflow\\workspace\\images\\collectedimages\\without_mask\\without_mask.21513920-c94b-11eb-8608-68f728ea5740.jpg -> Annotation:C:/Users/Namratha/Documents/MINI_PROJECT/mini_proj_2sem/facemask_detection/RealTimeObjectDetection/Tensorflow/workspace/images/collectedimages/without_mask/without_mask.21513920-c94b-11eb-8608-68f728ea5740.xml\n",
      "Image:C:\\Users\\Namratha\\Documents\\MINI_PROJECT\\mini_proj_2sem\\facemask_detection\\RealTimeObjectDetection\\Tensorflow\\workspace\\images\\collectedimages\\without_mask\\without_mask.95841737-c94b-11eb-8814-68f728ea5740.jpg -> Annotation:C:/Users/Namratha/Documents/MINI_PROJECT/mini_proj_2sem/facemask_detection/RealTimeObjectDetection/Tensorflow/workspace/images/collectedimages/without_mask/without_mask.95841737-c94b-11eb-8814-68f728ea5740.xml\n"
     ]
    }
   ],
   "source": [
    "!cd {LABELIMG_PATH} && python labelImg.py"
   ]
  },
  {
   "cell_type": "markdown",
   "metadata": {},
   "source": [
    "# OPTIONAL - Compress them for Colab Training"
   ]
  },
  {
   "cell_type": "code",
   "execution_count": 12,
   "metadata": {},
   "outputs": [],
   "source": [
    "TRAIN_PATH = os.path.join('Tensorflow', 'workspace', 'images', 'train')\n",
    "TEST_PATH = os.path.join('Tensorflow', 'workspace', 'images', 'test')\n",
    "ARCHIVE_PATH = os.path.join('archive.tar.gz')"
   ]
  },
  {
   "cell_type": "code",
   "execution_count": 13,
   "metadata": {},
   "outputs": [],
   "source": [
    "!tar -czf {ARCHIVE_PATH} {TRAIN_PATH} {TEST_PATH}"
   ]
  },
  {
   "cell_type": "code",
   "execution_count": null,
   "metadata": {},
   "outputs": [],
   "source": []
  }
 ],
 "metadata": {
  "kernelspec": {
   "display_name": "Python 3",
   "language": "python",
   "name": "python3"
  },
  "language_info": {
   "codemirror_mode": {
    "name": "ipython",
    "version": 3
   },
   "file_extension": ".py",
   "mimetype": "text/x-python",
   "name": "python",
   "nbconvert_exporter": "python",
   "pygments_lexer": "ipython3",
   "version": "3.8.8"
  },
  "varInspector": {
   "cols": {
    "lenName": 16,
    "lenType": 16,
    "lenVar": 40
   },
   "kernels_config": {
    "python": {
     "delete_cmd_postfix": "",
     "delete_cmd_prefix": "del ",
     "library": "var_list.py",
     "varRefreshCmd": "print(var_dic_list())"
    },
    "r": {
     "delete_cmd_postfix": ") ",
     "delete_cmd_prefix": "rm(",
     "library": "var_list.r",
     "varRefreshCmd": "cat(var_dic_list()) "
    }
   },
   "types_to_exclude": [
    "module",
    "function",
    "builtin_function_or_method",
    "instance",
    "_Feature"
   ],
   "window_display": false
  }
 },
 "nbformat": 4,
 "nbformat_minor": 2
}
